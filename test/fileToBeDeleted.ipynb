{
 "cells": [
  {
   "cell_type": "code",
   "execution_count": 23,
   "metadata": {},
   "outputs": [],
   "source": [
    "import pandas as pd"
   ]
  },
  {
   "cell_type": "code",
   "execution_count": 24,
   "metadata": {},
   "outputs": [],
   "source": [
    "dataFrame = pd.read_csv(\"X_file.csv\")"
   ]
  },
  {
   "cell_type": "code",
   "execution_count": 4,
   "metadata": {},
   "outputs": [
    {
     "data": {
      "text/html": [
       "<div>\n",
       "<style scoped>\n",
       "    .dataframe tbody tr th:only-of-type {\n",
       "        vertical-align: middle;\n",
       "    }\n",
       "\n",
       "    .dataframe tbody tr th {\n",
       "        vertical-align: top;\n",
       "    }\n",
       "\n",
       "    .dataframe thead th {\n",
       "        text-align: right;\n",
       "    }\n",
       "</style>\n",
       "<table border=\"1\" class=\"dataframe\">\n",
       "  <thead>\n",
       "    <tr style=\"text-align: right;\">\n",
       "      <th></th>\n",
       "      <th>data_url</th>\n",
       "      <th>covar_info</th>\n",
       "      <th>site_index</th>\n",
       "    </tr>\n",
       "  </thead>\n",
       "  <tbody>\n",
       "    <tr>\n",
       "      <th>0</th>\n",
       "      <td>nm_data.csv</td>\n",
       "      <td>nm_covar.csv</td>\n",
       "      <td>1</td>\n",
       "    </tr>\n",
       "  </tbody>\n",
       "</table>\n",
       "</div>"
      ],
      "text/plain": [
       "      data_url    covar_info   site_index\n",
       "0  nm_data.csv  nm_covar.csv            1"
      ]
     },
     "execution_count": 4,
     "metadata": {},
     "output_type": "execute_result"
    }
   ],
   "source": [
    "dataFrame"
   ]
  },
  {
   "cell_type": "code",
   "execution_count": 5,
   "metadata": {},
   "outputs": [
    {
     "data": {
      "text/plain": [
       "0    nm_covar.csv\n",
       "Name: covar_info, dtype: object"
      ]
     },
     "execution_count": 5,
     "metadata": {},
     "output_type": "execute_result"
    }
   ],
   "source": [
    "dataFrame[\"covar_info\"]"
   ]
  },
  {
   "cell_type": "code",
   "execution_count": 6,
   "metadata": {},
   "outputs": [
    {
     "data": {
      "text/plain": [
       "Index(['data_url', 'covar_info', ' site_index'], dtype='object')"
      ]
     },
     "execution_count": 6,
     "metadata": {},
     "output_type": "execute_result"
    }
   ],
   "source": [
    "dataFrame.columns"
   ]
  },
  {
   "cell_type": "code",
   "execution_count": 7,
   "metadata": {},
   "outputs": [
    {
     "data": {
      "text/plain": [
       "0    nm_data.csv\n",
       "Name: data_url, dtype: object"
      ]
     },
     "execution_count": 7,
     "metadata": {},
     "output_type": "execute_result"
    }
   ],
   "source": [
    "dataFrame['data_url']\n"
   ]
  },
  {
   "cell_type": "code",
   "execution_count": 8,
   "metadata": {},
   "outputs": [
    {
     "data": {
      "text/plain": [
       "0    1\n",
       "Name:  site_index, dtype: int64"
      ]
     },
     "execution_count": 8,
     "metadata": {},
     "output_type": "execute_result"
    }
   ],
   "source": [
    "dataFrame.iloc[:, 2]"
   ]
  },
  {
   "cell_type": "code",
   "execution_count": 9,
   "metadata": {},
   "outputs": [],
   "source": [
    "files = ['/input/local0/simulatorRun/nm_covar.csv', '/input/local0/simulatorRun/nm_data.csv', '/input/local0/simulatorRun/X_file.csv', 'aa']"
   ]
  },
  {
   "cell_type": "code",
   "execution_count": 10,
   "metadata": {},
   "outputs": [
    {
     "data": {
      "text/plain": [
       "['/input/local0/simulatorRun/X_file.csv']"
      ]
     },
     "execution_count": 10,
     "metadata": {},
     "output_type": "execute_result"
    }
   ],
   "source": [
    "[item for (index, item) in enumerate(files) if \"X_file\" in item]"
   ]
  },
  {
   "cell_type": "code",
   "execution_count": 11,
   "metadata": {},
   "outputs": [
    {
     "data": {
      "text/plain": [
       "array([['nm_data.csv', 'nm_covar.csv', 1]], dtype=object)"
      ]
     },
     "execution_count": 11,
     "metadata": {},
     "output_type": "execute_result"
    }
   ],
   "source": [
    "dataFrame.values"
   ]
  },
  {
   "cell_type": "code",
   "execution_count": 12,
   "metadata": {},
   "outputs": [
    {
     "data": {
      "text/plain": [
       "'nm_data.csv'"
      ]
     },
     "execution_count": 12,
     "metadata": {},
     "output_type": "execute_result"
    }
   ],
   "source": [
    "dataFrame['data_url'][0]"
   ]
  },
  {
   "cell_type": "code",
   "execution_count": 13,
   "metadata": {},
   "outputs": [],
   "source": [
    "cache_dict = {'data_urls': '/input/local1/simulatorRun/eu_data.csv', 'lambda_value': 0, 'covar_urls': '/input/local1/simulatorRun/eu_covar.csv', 'site_index': 2}\n"
   ]
  },
  {
   "cell_type": "code",
   "execution_count": 14,
   "metadata": {},
   "outputs": [],
   "source": [
    "output_dict = {\"computation_phase\": \"local_0\"}"
   ]
  },
  {
   "cell_type": "code",
   "execution_count": 15,
   "metadata": {},
   "outputs": [],
   "source": [
    "    computation_output = {\"output\": output_dict, \"cache\": cache_dict}\n"
   ]
  },
  {
   "cell_type": "code",
   "execution_count": 16,
   "metadata": {},
   "outputs": [
    {
     "data": {
      "text/plain": [
       "'{\"output\": {\"computation_phase\": \"local_0\"}, \"cache\": {\"data_urls\": \"/input/local1/simulatorRun/eu_data.csv\", \"lambda_value\": 0, \"covar_urls\": \"/input/local1/simulatorRun/eu_covar.csv\", \"site_index\": 2}}'"
      ]
     },
     "execution_count": 16,
     "metadata": {},
     "output_type": "execute_result"
    }
   ],
   "source": [
    "import json\n",
    "json.dumps(computation_output)"
   ]
  },
  {
   "cell_type": "code",
   "execution_count": 17,
   "metadata": {},
   "outputs": [],
   "source": [
    "dataFrame = pd.read_csv(\"eu_data.csv\")"
   ]
  },
  {
   "cell_type": "code",
   "execution_count": 18,
   "metadata": {},
   "outputs": [
    {
     "data": {
      "text/html": [
       "<div>\n",
       "<style scoped>\n",
       "    .dataframe tbody tr th:only-of-type {\n",
       "        vertical-align: middle;\n",
       "    }\n",
       "\n",
       "    .dataframe tbody tr th {\n",
       "        vertical-align: top;\n",
       "    }\n",
       "\n",
       "    .dataframe thead th {\n",
       "        text-align: right;\n",
       "    }\n",
       "</style>\n",
       "<table border=\"1\" class=\"dataframe\">\n",
       "  <thead>\n",
       "    <tr style=\"text-align: right;\">\n",
       "      <th></th>\n",
       "      <th>var1</th>\n",
       "      <th>var2</th>\n",
       "      <th>var3</th>\n",
       "      <th>var4</th>\n",
       "      <th>var5</th>\n",
       "      <th>var6</th>\n",
       "      <th>var7</th>\n",
       "      <th>var8</th>\n",
       "      <th>var9</th>\n",
       "      <th>var10</th>\n",
       "      <th>...</th>\n",
       "      <th>var491</th>\n",
       "      <th>var492</th>\n",
       "      <th>var493</th>\n",
       "      <th>var494</th>\n",
       "      <th>var495</th>\n",
       "      <th>var496</th>\n",
       "      <th>var497</th>\n",
       "      <th>var498</th>\n",
       "      <th>var499</th>\n",
       "      <th>var500</th>\n",
       "    </tr>\n",
       "  </thead>\n",
       "  <tbody>\n",
       "    <tr>\n",
       "      <th>0</th>\n",
       "      <td>0.5000</td>\n",
       "      <td>-0.093</td>\n",
       "      <td>-0.512</td>\n",
       "      <td>-0.414</td>\n",
       "      <td>-0.235</td>\n",
       "      <td>0.1930</td>\n",
       "      <td>-0.142</td>\n",
       "      <td>-0.0197</td>\n",
       "      <td>-0.154</td>\n",
       "      <td>-0.114</td>\n",
       "      <td>...</td>\n",
       "      <td>-0.00466</td>\n",
       "      <td>-0.1530</td>\n",
       "      <td>0.1200</td>\n",
       "      <td>-0.1470</td>\n",
       "      <td>0.261</td>\n",
       "      <td>-0.00314</td>\n",
       "      <td>0.2330</td>\n",
       "      <td>-0.3520</td>\n",
       "      <td>0.278</td>\n",
       "      <td>0.5170</td>\n",
       "    </tr>\n",
       "    <tr>\n",
       "      <th>1</th>\n",
       "      <td>0.2280</td>\n",
       "      <td>-0.415</td>\n",
       "      <td>-0.287</td>\n",
       "      <td>-0.466</td>\n",
       "      <td>-0.448</td>\n",
       "      <td>0.4270</td>\n",
       "      <td>-0.442</td>\n",
       "      <td>-0.2510</td>\n",
       "      <td>-0.378</td>\n",
       "      <td>-0.347</td>\n",
       "      <td>...</td>\n",
       "      <td>-0.06410</td>\n",
       "      <td>-0.1380</td>\n",
       "      <td>-0.0254</td>\n",
       "      <td>-0.4250</td>\n",
       "      <td>0.112</td>\n",
       "      <td>-0.13400</td>\n",
       "      <td>0.0178</td>\n",
       "      <td>-0.2620</td>\n",
       "      <td>0.430</td>\n",
       "      <td>0.4200</td>\n",
       "    </tr>\n",
       "    <tr>\n",
       "      <th>2</th>\n",
       "      <td>0.2490</td>\n",
       "      <td>-0.372</td>\n",
       "      <td>-0.423</td>\n",
       "      <td>-0.292</td>\n",
       "      <td>-0.334</td>\n",
       "      <td>0.7460</td>\n",
       "      <td>-0.260</td>\n",
       "      <td>-0.0755</td>\n",
       "      <td>-0.229</td>\n",
       "      <td>-0.296</td>\n",
       "      <td>...</td>\n",
       "      <td>-0.03470</td>\n",
       "      <td>-0.0735</td>\n",
       "      <td>-0.2690</td>\n",
       "      <td>-0.2280</td>\n",
       "      <td>-0.374</td>\n",
       "      <td>-0.26000</td>\n",
       "      <td>-0.2840</td>\n",
       "      <td>-0.1610</td>\n",
       "      <td>0.393</td>\n",
       "      <td>0.2770</td>\n",
       "    </tr>\n",
       "    <tr>\n",
       "      <th>3</th>\n",
       "      <td>0.1920</td>\n",
       "      <td>-0.331</td>\n",
       "      <td>-0.250</td>\n",
       "      <td>-0.201</td>\n",
       "      <td>-0.229</td>\n",
       "      <td>0.7410</td>\n",
       "      <td>-0.383</td>\n",
       "      <td>-0.3690</td>\n",
       "      <td>-0.479</td>\n",
       "      <td>-0.283</td>\n",
       "      <td>...</td>\n",
       "      <td>0.06280</td>\n",
       "      <td>-0.1450</td>\n",
       "      <td>-0.1990</td>\n",
       "      <td>0.2090</td>\n",
       "      <td>-0.172</td>\n",
       "      <td>-0.18700</td>\n",
       "      <td>-0.1610</td>\n",
       "      <td>0.0599</td>\n",
       "      <td>0.199</td>\n",
       "      <td>0.0982</td>\n",
       "    </tr>\n",
       "    <tr>\n",
       "      <th>4</th>\n",
       "      <td>0.2320</td>\n",
       "      <td>-0.583</td>\n",
       "      <td>-0.586</td>\n",
       "      <td>-0.650</td>\n",
       "      <td>-0.658</td>\n",
       "      <td>0.1690</td>\n",
       "      <td>-0.669</td>\n",
       "      <td>-0.5340</td>\n",
       "      <td>-0.356</td>\n",
       "      <td>-0.651</td>\n",
       "      <td>...</td>\n",
       "      <td>-0.01620</td>\n",
       "      <td>0.1630</td>\n",
       "      <td>0.1300</td>\n",
       "      <td>-0.2750</td>\n",
       "      <td>0.267</td>\n",
       "      <td>-0.29200</td>\n",
       "      <td>-0.0304</td>\n",
       "      <td>-0.2540</td>\n",
       "      <td>0.394</td>\n",
       "      <td>0.1160</td>\n",
       "    </tr>\n",
       "    <tr>\n",
       "      <th>5</th>\n",
       "      <td>0.3830</td>\n",
       "      <td>-0.549</td>\n",
       "      <td>-0.418</td>\n",
       "      <td>-0.598</td>\n",
       "      <td>-0.506</td>\n",
       "      <td>-0.0603</td>\n",
       "      <td>-0.493</td>\n",
       "      <td>-0.4370</td>\n",
       "      <td>-0.401</td>\n",
       "      <td>-0.552</td>\n",
       "      <td>...</td>\n",
       "      <td>-0.07940</td>\n",
       "      <td>-0.1150</td>\n",
       "      <td>0.1860</td>\n",
       "      <td>-0.2090</td>\n",
       "      <td>0.137</td>\n",
       "      <td>0.08680</td>\n",
       "      <td>0.0321</td>\n",
       "      <td>-0.3890</td>\n",
       "      <td>0.307</td>\n",
       "      <td>0.3400</td>\n",
       "    </tr>\n",
       "    <tr>\n",
       "      <th>6</th>\n",
       "      <td>0.0651</td>\n",
       "      <td>-0.442</td>\n",
       "      <td>-0.494</td>\n",
       "      <td>-0.453</td>\n",
       "      <td>-0.455</td>\n",
       "      <td>0.1000</td>\n",
       "      <td>-0.630</td>\n",
       "      <td>-0.5820</td>\n",
       "      <td>-0.651</td>\n",
       "      <td>-0.593</td>\n",
       "      <td>...</td>\n",
       "      <td>0.11700</td>\n",
       "      <td>0.0581</td>\n",
       "      <td>-0.2160</td>\n",
       "      <td>0.0284</td>\n",
       "      <td>-0.454</td>\n",
       "      <td>-0.39700</td>\n",
       "      <td>-0.3100</td>\n",
       "      <td>-0.3490</td>\n",
       "      <td>0.267</td>\n",
       "      <td>0.6970</td>\n",
       "    </tr>\n",
       "    <tr>\n",
       "      <th>7</th>\n",
       "      <td>0.0328</td>\n",
       "      <td>-0.543</td>\n",
       "      <td>-0.480</td>\n",
       "      <td>-0.456</td>\n",
       "      <td>-0.495</td>\n",
       "      <td>0.2410</td>\n",
       "      <td>-0.672</td>\n",
       "      <td>-0.6140</td>\n",
       "      <td>-0.630</td>\n",
       "      <td>-0.536</td>\n",
       "      <td>...</td>\n",
       "      <td>0.02340</td>\n",
       "      <td>0.1220</td>\n",
       "      <td>-0.0152</td>\n",
       "      <td>-0.1070</td>\n",
       "      <td>-0.102</td>\n",
       "      <td>-0.10300</td>\n",
       "      <td>0.0277</td>\n",
       "      <td>-0.1410</td>\n",
       "      <td>0.212</td>\n",
       "      <td>0.5890</td>\n",
       "    </tr>\n",
       "  </tbody>\n",
       "</table>\n",
       "<p>8 rows × 500 columns</p>\n",
       "</div>"
      ],
      "text/plain": [
       "     var1   var2   var3   var4   var5    var6   var7    var8   var9  var10  \\\n",
       "0  0.5000 -0.093 -0.512 -0.414 -0.235  0.1930 -0.142 -0.0197 -0.154 -0.114   \n",
       "1  0.2280 -0.415 -0.287 -0.466 -0.448  0.4270 -0.442 -0.2510 -0.378 -0.347   \n",
       "2  0.2490 -0.372 -0.423 -0.292 -0.334  0.7460 -0.260 -0.0755 -0.229 -0.296   \n",
       "3  0.1920 -0.331 -0.250 -0.201 -0.229  0.7410 -0.383 -0.3690 -0.479 -0.283   \n",
       "4  0.2320 -0.583 -0.586 -0.650 -0.658  0.1690 -0.669 -0.5340 -0.356 -0.651   \n",
       "5  0.3830 -0.549 -0.418 -0.598 -0.506 -0.0603 -0.493 -0.4370 -0.401 -0.552   \n",
       "6  0.0651 -0.442 -0.494 -0.453 -0.455  0.1000 -0.630 -0.5820 -0.651 -0.593   \n",
       "7  0.0328 -0.543 -0.480 -0.456 -0.495  0.2410 -0.672 -0.6140 -0.630 -0.536   \n",
       "\n",
       "   ...   var491  var492  var493  var494  var495   var496  var497  var498  \\\n",
       "0  ... -0.00466 -0.1530  0.1200 -0.1470   0.261 -0.00314  0.2330 -0.3520   \n",
       "1  ... -0.06410 -0.1380 -0.0254 -0.4250   0.112 -0.13400  0.0178 -0.2620   \n",
       "2  ... -0.03470 -0.0735 -0.2690 -0.2280  -0.374 -0.26000 -0.2840 -0.1610   \n",
       "3  ...  0.06280 -0.1450 -0.1990  0.2090  -0.172 -0.18700 -0.1610  0.0599   \n",
       "4  ... -0.01620  0.1630  0.1300 -0.2750   0.267 -0.29200 -0.0304 -0.2540   \n",
       "5  ... -0.07940 -0.1150  0.1860 -0.2090   0.137  0.08680  0.0321 -0.3890   \n",
       "6  ...  0.11700  0.0581 -0.2160  0.0284  -0.454 -0.39700 -0.3100 -0.3490   \n",
       "7  ...  0.02340  0.1220 -0.0152 -0.1070  -0.102 -0.10300  0.0277 -0.1410   \n",
       "\n",
       "   var499  var500  \n",
       "0   0.278  0.5170  \n",
       "1   0.430  0.4200  \n",
       "2   0.393  0.2770  \n",
       "3   0.199  0.0982  \n",
       "4   0.394  0.1160  \n",
       "5   0.307  0.3400  \n",
       "6   0.267  0.6970  \n",
       "7   0.212  0.5890  \n",
       "\n",
       "[8 rows x 500 columns]"
      ]
     },
     "execution_count": 18,
     "metadata": {},
     "output_type": "execute_result"
    }
   ],
   "source": [
    "dataFrame"
   ]
  },
  {
   "cell_type": "code",
   "execution_count": 19,
   "metadata": {},
   "outputs": [
    {
     "data": {
      "text/plain": [
       "(8, 500)"
      ]
     },
     "execution_count": 19,
     "metadata": {},
     "output_type": "execute_result"
    }
   ],
   "source": [
    "dataFrame.values.shape"
   ]
  },
  {
   "cell_type": "code",
   "execution_count": 20,
   "metadata": {},
   "outputs": [],
   "source": [
    "j = {\n",
    "    \"output\": {\n",
    "        \"local_sample_count\": 74,\n",
    "        \"XtransposeX_local\": [\n",
    "            [\n",
    "                118306,\n",
    "                1889,\n",
    "                1980,\n",
    "                0,\n",
    "                2746\n",
    "            ],\n",
    "            [\n",
    "                1889,\n",
    "                47,\n",
    "                29,\n",
    "                0,\n",
    "                47\n",
    "            ],\n",
    "            [\n",
    "                1980,\n",
    "                29,\n",
    "                54,\n",
    "                0,\n",
    "                54\n",
    "            ],\n",
    "            [\n",
    "                0,\n",
    "                0,\n",
    "                0,\n",
    "                0,\n",
    "                0\n",
    "            ],\n",
    "            [\n",
    "                2746,\n",
    "                47,\n",
    "                54,\n",
    "                0,\n",
    "                74\n",
    "            ]\n",
    "        ],\n",
    "        \"Xtransposey_local\": [\n",
    "            [\n",
    "                546.9344299999999,\n",
    "                -824.9177000000002,\n",
    "                -851.7108099999998,\n",
    "                -1153.1282999999999,\n",
    "                -1100.8684499999995,\n",
    "                1079.3927,\n",
    "                -771.7146,\n",
    "                -556.401422,\n",
    "                -550.6208549999999,\n",
    "                -1095.0086\n",
    "            ],\n",
    "            [\n",
    "                8.43622,\n",
    "                -14.951800000000002,\n",
    "                -15.16651,\n",
    "                -20.595,\n",
    "                -19.352150000000005,\n",
    "                17.498700000000003,\n",
    "                -12.827399999999999,\n",
    "                -10.296391000000003,\n",
    "                -9.849799999999998,\n",
    "                -18.029579999999992\n",
    "            ],\n",
    "            [\n",
    "                11.380429999999997,\n",
    "                -15.67,\n",
    "                -17.621,\n",
    "                -23.212899999999994,\n",
    "                -22.48665,\n",
    "                21.4381,\n",
    "                -14.438600000000001,\n",
    "                -9.893149999999999,\n",
    "                -9.328865,\n",
    "                -21.618399999999994,\n",
    "            ],\n",
    "            [\n",
    "                0.0,\n",
    "                0.0,\n",
    "                0.0,\n",
    "                0.0,\n",
    "                0.0,\n",
    "                0.0,\n",
    "                0.0,\n",
    "                0.0,\n",
    "                0.0,\n",
    "                0.0\n",
    "            ],\n",
    "            [\n",
    "                14.24372,\n",
    "                -21.894599999999997,\n",
    "                -24.35501,\n",
    "                -31.5929,\n",
    "                -30.461150000000004,\n",
    "                28.6991,\n",
    "                -19.270999999999997,\n",
    "                -14.203051000000002,\n",
    "                -13.632365000000004,\n",
    "                -29.000279999999997\n",
    "            ]\n",
    "        ],\n",
    "        \"site_index\": 2,\n",
    "        \"computation_phase\": \"local_1\"\n",
    "    },\n",
    "    \"cache\": {\n",
    "        \"covariates\": \"{\\\"columns\\\":[\\\"age \\\",\\\"sex\\\",\\\"diag\\\",\\\"site_local0\\\",\\\"site_local1\\\"],\\\"index\\\":[0,1,2,3,4,5,6,7,8,9,10,11,12,13,14,15,16,17,18,19,20,21,22,23,24,25,26,27,28,29,30,31,32,33,34,35,36,37,38,39,40,41,42,43,44,45,46,47,48,49,50,51,52,53,54,55,56,57,58,59,60,61,62,63,64,65,66,67,68,69,70,71,72,73],\\\"data\\\":[[36,1,1,0,1],[36,1,1,0,1],[56,1,1,0,1],[56,1,1,0,1],[37,1,1,0,1],[37,1,1,0,1],[51,1,1,0,1],[51,1,1,0,1],[31,1,1,0,1],[31,1,1,0,1],[22,0,1,0,1],[22,0,1,0,1],[20,0,1,0,1],[61,1,1,0,1],[61,1,1,0,1],[57,0,1,0,1],[57,0,1,0,1],[45,1,1,0,1],[45,1,1,0,1],[21,0,1,0,1],[21,0,1,0,1],[36,0,1,0,1],[36,0,1,0,1],[33,0,1,0,1],[33,0,1,0,1],[31,1,1,0,1],[31,1,1,0,1],[41,0,1,0,1],[41,0,1,0,1],[21,0,1,0,1],[21,0,1,0,1],[60,1,1,0,1],[60,1,1,0,1],[22,0,1,0,1],[22,0,1,0,1],[27,0,1,0,1],[27,0,1,0,1],[43,1,1,0,1],[43,1,1,0,1],[46,0,1,0,1],[46,0,1,0,1],[28,0,1,0,1],[23,0,1,0,1],[23,0,1,0,1],[28,1,1,0,1],[28,1,1,0,1],[63,1,1,0,1],[21,1,1,0,1],[21,1,1,0,1],[22,1,1,0,1],[22,1,1,0,1],[54,1,1,0,1],[54,1,1,0,1],[19,0,1,0,1],[62,1,0,0,1],[62,1,0,0,1],[63,1,0,0,1],[63,1,0,0,1],[46,0,0,0,1],[46,0,0,0,1],[22,1,0,0,1],[22,1,0,0,1],[61,1,0,0,1],[61,1,0,0,1],[20,1,0,0,1],[20,1,0,0,1],[27,1,0,0,1],[27,1,0,0,1],[39,1,0,0,1],[39,1,0,0,1],[20,1,0,0,1],[20,1,0,0,1],[23,1,0,0,1],[23,1,0,0,1]]}\",\n",
    "        \"local_sample_count\": 74\n",
    "    }\n",
    "}"
   ]
  },
  {
   "cell_type": "code",
   "execution_count": 21,
   "metadata": {},
   "outputs": [
    {
     "data": {
      "text/plain": [
       "'{\"output\": {\"local_sample_count\": 74, \"XtransposeX_local\": [[118306, 1889, 1980, 0, 2746], [1889, 47, 29, 0, 47], [1980, 29, 54, 0, 54], [0, 0, 0, 0, 0], [2746, 47, 54, 0, 74]], \"Xtransposey_local\": [[546.9344299999999, -824.9177000000002, -851.7108099999998, -1153.1282999999999, -1100.8684499999995, 1079.3927, -771.7146, -556.401422, -550.6208549999999, -1095.0086], [8.43622, -14.951800000000002, -15.16651, -20.595, -19.352150000000005, 17.498700000000003, -12.827399999999999, -10.296391000000003, -9.849799999999998, -18.029579999999992], [11.380429999999997, -15.67, -17.621, -23.212899999999994, -22.48665, 21.4381, -14.438600000000001, -9.893149999999999, -9.328865, -21.618399999999994], [0.0, 0.0, 0.0, 0.0, 0.0, 0.0, 0.0, 0.0, 0.0, 0.0], [14.24372, -21.894599999999997, -24.35501, -31.5929, -30.461150000000004, 28.6991, -19.270999999999997, -14.203051000000002, -13.632365000000004, -29.000279999999997]], \"site_index\": 2, \"computation_phase\": \"local_1\"}, \"cache\": {\"covariates\": \"{\\\\\"columns\\\\\":[\\\\\"age \\\\\",\\\\\"sex\\\\\",\\\\\"diag\\\\\",\\\\\"site_local0\\\\\",\\\\\"site_local1\\\\\"],\\\\\"index\\\\\":[0,1,2,3,4,5,6,7,8,9,10,11,12,13,14,15,16,17,18,19,20,21,22,23,24,25,26,27,28,29,30,31,32,33,34,35,36,37,38,39,40,41,42,43,44,45,46,47,48,49,50,51,52,53,54,55,56,57,58,59,60,61,62,63,64,65,66,67,68,69,70,71,72,73],\\\\\"data\\\\\":[[36,1,1,0,1],[36,1,1,0,1],[56,1,1,0,1],[56,1,1,0,1],[37,1,1,0,1],[37,1,1,0,1],[51,1,1,0,1],[51,1,1,0,1],[31,1,1,0,1],[31,1,1,0,1],[22,0,1,0,1],[22,0,1,0,1],[20,0,1,0,1],[61,1,1,0,1],[61,1,1,0,1],[57,0,1,0,1],[57,0,1,0,1],[45,1,1,0,1],[45,1,1,0,1],[21,0,1,0,1],[21,0,1,0,1],[36,0,1,0,1],[36,0,1,0,1],[33,0,1,0,1],[33,0,1,0,1],[31,1,1,0,1],[31,1,1,0,1],[41,0,1,0,1],[41,0,1,0,1],[21,0,1,0,1],[21,0,1,0,1],[60,1,1,0,1],[60,1,1,0,1],[22,0,1,0,1],[22,0,1,0,1],[27,0,1,0,1],[27,0,1,0,1],[43,1,1,0,1],[43,1,1,0,1],[46,0,1,0,1],[46,0,1,0,1],[28,0,1,0,1],[23,0,1,0,1],[23,0,1,0,1],[28,1,1,0,1],[28,1,1,0,1],[63,1,1,0,1],[21,1,1,0,1],[21,1,1,0,1],[22,1,1,0,1],[22,1,1,0,1],[54,1,1,0,1],[54,1,1,0,1],[19,0,1,0,1],[62,1,0,0,1],[62,1,0,0,1],[63,1,0,0,1],[63,1,0,0,1],[46,0,0,0,1],[46,0,0,0,1],[22,1,0,0,1],[22,1,0,0,1],[61,1,0,0,1],[61,1,0,0,1],[20,1,0,0,1],[20,1,0,0,1],[27,1,0,0,1],[27,1,0,0,1],[39,1,0,0,1],[39,1,0,0,1],[20,1,0,0,1],[20,1,0,0,1],[23,1,0,0,1],[23,1,0,0,1]]}\", \"local_sample_count\": 74}}'"
      ]
     },
     "execution_count": 21,
     "metadata": {},
     "output_type": "execute_result"
    }
   ],
   "source": [
    "import json\n",
    "json.dumps(j)"
   ]
  },
  {
   "cell_type": "code",
   "execution_count": 22,
   "metadata": {},
   "outputs": [
    {
     "data": {
      "text/plain": [
       "array([[ 0.5   ,  0.228 ,  0.249 , ...,  0.383 ,  0.0651,  0.0328],\n",
       "       [-0.093 , -0.415 , -0.372 , ..., -0.549 , -0.442 , -0.543 ],\n",
       "       [-0.512 , -0.287 , -0.423 , ..., -0.418 , -0.494 , -0.48  ],\n",
       "       ...,\n",
       "       [-0.352 , -0.262 , -0.161 , ..., -0.389 , -0.349 , -0.141 ],\n",
       "       [ 0.278 ,  0.43  ,  0.393 , ...,  0.307 ,  0.267 ,  0.212 ],\n",
       "       [ 0.517 ,  0.42  ,  0.277 , ...,  0.34  ,  0.697 ,  0.589 ]])"
      ]
     },
     "execution_count": 22,
     "metadata": {},
     "output_type": "execute_result"
    }
   ],
   "source": [
    "dataFrame.values.T"
   ]
  },
  {
   "cell_type": "code",
   "execution_count": 28,
   "metadata": {},
   "outputs": [
    {
     "data": {
      "text/plain": [
       "Index(['data_url', 'covar_info', ' site_index'], dtype='object')"
      ]
     },
     "execution_count": 28,
     "metadata": {},
     "output_type": "execute_result"
    }
   ],
   "source": [
    "dataFrame.columns"
   ]
  },
  {
   "cell_type": "code",
   "execution_count": 29,
   "metadata": {},
   "outputs": [],
   "source": [
    "dataFrame.to_csv(\"output.csv\", index=False)"
   ]
  },
  {
   "cell_type": "code",
   "execution_count": null,
   "metadata": {},
   "outputs": [],
   "source": []
  }
 ],
 "metadata": {
  "kernelspec": {
   "display_name": "base",
   "language": "python",
   "name": "python3"
  },
  "language_info": {
   "codemirror_mode": {
    "name": "ipython",
    "version": 3
   },
   "file_extension": ".py",
   "mimetype": "text/x-python",
   "name": "python",
   "nbconvert_exporter": "python",
   "pygments_lexer": "ipython3",
   "version": "3.8.5"
  },
  "orig_nbformat": 4
 },
 "nbformat": 4,
 "nbformat_minor": 2
}
